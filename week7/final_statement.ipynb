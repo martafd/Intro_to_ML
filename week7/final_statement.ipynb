{
 "cells": [
  {
   "cell_type": "markdown",
   "metadata": {
    "collapsed": false
   },
   "source": [
    "** Финальное задание **\n",
    "===================\n",
    "**Предметная область: Игра Dota 2**\n",
    "-------------------\n",
    "<i> Dota 2 — многопользовательская компьютерная игра жанра MOBA. Игроки играют между собой матчи. В каждом матче участвует две команды, 5 человек в каждой. Одна команда играет за светлую сторону (The Radiant), другая — за тёмную (The Dire). Цель каждой команды — уничтожить главное здание базы противника (трон).\n",
    "\n",
    "<i> Существуют разные режимы игры, мы будем рассматривать режим Captain's Mode, в формате которого происходит большая часть киберспортивных мероприятий по Dota 2.\n",
    "\n",
    "* * *"
   ]
  },
  {
   "cell_type": "markdown",
   "metadata": {},
   "source": [
    "<h1 style=\"text-align:center;\"> Решение задание </h1>"
   ]
  },
  {
   "cell_type": "markdown",
   "metadata": {},
   "source": [
    "<i>Загрузка данных"
   ]
  },
  {
   "cell_type": "code",
   "execution_count": 2,
   "metadata": {
    "collapsed": false
   },
   "outputs": [
    {
     "data": {
      "text/html": [
       "<div>\n",
       "<table border=\"1\" class=\"dataframe\">\n",
       "  <thead>\n",
       "    <tr style=\"text-align: right;\">\n",
       "      <th></th>\n",
       "      <th>start_time</th>\n",
       "      <th>lobby_type</th>\n",
       "      <th>r1_hero</th>\n",
       "      <th>r1_level</th>\n",
       "      <th>r1_xp</th>\n",
       "      <th>r1_gold</th>\n",
       "      <th>r1_lh</th>\n",
       "      <th>r1_kills</th>\n",
       "      <th>r1_deaths</th>\n",
       "      <th>r1_items</th>\n",
       "      <th>...</th>\n",
       "      <th>dire_boots_count</th>\n",
       "      <th>dire_ward_observer_count</th>\n",
       "      <th>dire_ward_sentry_count</th>\n",
       "      <th>dire_first_ward_time</th>\n",
       "      <th>duration</th>\n",
       "      <th>radiant_win</th>\n",
       "      <th>tower_status_radiant</th>\n",
       "      <th>tower_status_dire</th>\n",
       "      <th>barracks_status_radiant</th>\n",
       "      <th>barracks_status_dire</th>\n",
       "    </tr>\n",
       "    <tr>\n",
       "      <th>match_id</th>\n",
       "      <th></th>\n",
       "      <th></th>\n",
       "      <th></th>\n",
       "      <th></th>\n",
       "      <th></th>\n",
       "      <th></th>\n",
       "      <th></th>\n",
       "      <th></th>\n",
       "      <th></th>\n",
       "      <th></th>\n",
       "      <th></th>\n",
       "      <th></th>\n",
       "      <th></th>\n",
       "      <th></th>\n",
       "      <th></th>\n",
       "      <th></th>\n",
       "      <th></th>\n",
       "      <th></th>\n",
       "      <th></th>\n",
       "      <th></th>\n",
       "      <th></th>\n",
       "    </tr>\n",
       "  </thead>\n",
       "  <tbody>\n",
       "    <tr>\n",
       "      <th>0</th>\n",
       "      <td>1430198770</td>\n",
       "      <td>7</td>\n",
       "      <td>11</td>\n",
       "      <td>5</td>\n",
       "      <td>2098</td>\n",
       "      <td>1489</td>\n",
       "      <td>20</td>\n",
       "      <td>0</td>\n",
       "      <td>0</td>\n",
       "      <td>7</td>\n",
       "      <td>...</td>\n",
       "      <td>4</td>\n",
       "      <td>2</td>\n",
       "      <td>2</td>\n",
       "      <td>-52.0</td>\n",
       "      <td>2874</td>\n",
       "      <td>1</td>\n",
       "      <td>1796</td>\n",
       "      <td>0</td>\n",
       "      <td>51</td>\n",
       "      <td>0</td>\n",
       "    </tr>\n",
       "    <tr>\n",
       "      <th>1</th>\n",
       "      <td>1430220345</td>\n",
       "      <td>0</td>\n",
       "      <td>42</td>\n",
       "      <td>4</td>\n",
       "      <td>1188</td>\n",
       "      <td>1033</td>\n",
       "      <td>9</td>\n",
       "      <td>0</td>\n",
       "      <td>1</td>\n",
       "      <td>12</td>\n",
       "      <td>...</td>\n",
       "      <td>4</td>\n",
       "      <td>3</td>\n",
       "      <td>1</td>\n",
       "      <td>-5.0</td>\n",
       "      <td>2463</td>\n",
       "      <td>1</td>\n",
       "      <td>1974</td>\n",
       "      <td>0</td>\n",
       "      <td>63</td>\n",
       "      <td>1</td>\n",
       "    </tr>\n",
       "    <tr>\n",
       "      <th>2</th>\n",
       "      <td>1430227081</td>\n",
       "      <td>7</td>\n",
       "      <td>33</td>\n",
       "      <td>4</td>\n",
       "      <td>1319</td>\n",
       "      <td>1270</td>\n",
       "      <td>22</td>\n",
       "      <td>0</td>\n",
       "      <td>0</td>\n",
       "      <td>12</td>\n",
       "      <td>...</td>\n",
       "      <td>4</td>\n",
       "      <td>3</td>\n",
       "      <td>1</td>\n",
       "      <td>13.0</td>\n",
       "      <td>2130</td>\n",
       "      <td>0</td>\n",
       "      <td>0</td>\n",
       "      <td>1830</td>\n",
       "      <td>0</td>\n",
       "      <td>63</td>\n",
       "    </tr>\n",
       "    <tr>\n",
       "      <th>3</th>\n",
       "      <td>1430263531</td>\n",
       "      <td>1</td>\n",
       "      <td>29</td>\n",
       "      <td>4</td>\n",
       "      <td>1779</td>\n",
       "      <td>1056</td>\n",
       "      <td>14</td>\n",
       "      <td>0</td>\n",
       "      <td>0</td>\n",
       "      <td>5</td>\n",
       "      <td>...</td>\n",
       "      <td>4</td>\n",
       "      <td>2</td>\n",
       "      <td>0</td>\n",
       "      <td>27.0</td>\n",
       "      <td>1459</td>\n",
       "      <td>0</td>\n",
       "      <td>1920</td>\n",
       "      <td>2047</td>\n",
       "      <td>50</td>\n",
       "      <td>63</td>\n",
       "    </tr>\n",
       "    <tr>\n",
       "      <th>4</th>\n",
       "      <td>1430282290</td>\n",
       "      <td>7</td>\n",
       "      <td>13</td>\n",
       "      <td>4</td>\n",
       "      <td>1431</td>\n",
       "      <td>1090</td>\n",
       "      <td>8</td>\n",
       "      <td>1</td>\n",
       "      <td>0</td>\n",
       "      <td>8</td>\n",
       "      <td>...</td>\n",
       "      <td>3</td>\n",
       "      <td>3</td>\n",
       "      <td>0</td>\n",
       "      <td>-16.0</td>\n",
       "      <td>2449</td>\n",
       "      <td>0</td>\n",
       "      <td>4</td>\n",
       "      <td>1974</td>\n",
       "      <td>3</td>\n",
       "      <td>63</td>\n",
       "    </tr>\n",
       "  </tbody>\n",
       "</table>\n",
       "<p>5 rows × 108 columns</p>\n",
       "</div>"
      ],
      "text/plain": [
       "          start_time  lobby_type  r1_hero  r1_level  r1_xp  r1_gold  r1_lh  \\\n",
       "match_id                                                                     \n",
       "0         1430198770           7       11         5   2098     1489     20   \n",
       "1         1430220345           0       42         4   1188     1033      9   \n",
       "2         1430227081           7       33         4   1319     1270     22   \n",
       "3         1430263531           1       29         4   1779     1056     14   \n",
       "4         1430282290           7       13         4   1431     1090      8   \n",
       "\n",
       "          r1_kills  r1_deaths  r1_items          ...           \\\n",
       "match_id                                         ...            \n",
       "0                0          0         7          ...            \n",
       "1                0          1        12          ...            \n",
       "2                0          0        12          ...            \n",
       "3                0          0         5          ...            \n",
       "4                1          0         8          ...            \n",
       "\n",
       "          dire_boots_count  dire_ward_observer_count  dire_ward_sentry_count  \\\n",
       "match_id                                                                       \n",
       "0                        4                         2                       2   \n",
       "1                        4                         3                       1   \n",
       "2                        4                         3                       1   \n",
       "3                        4                         2                       0   \n",
       "4                        3                         3                       0   \n",
       "\n",
       "          dire_first_ward_time  duration  radiant_win  tower_status_radiant  \\\n",
       "match_id                                                                      \n",
       "0                        -52.0      2874            1                  1796   \n",
       "1                         -5.0      2463            1                  1974   \n",
       "2                         13.0      2130            0                     0   \n",
       "3                         27.0      1459            0                  1920   \n",
       "4                        -16.0      2449            0                     4   \n",
       "\n",
       "          tower_status_dire  barracks_status_radiant  barracks_status_dire  \n",
       "match_id                                                                    \n",
       "0                         0                       51                     0  \n",
       "1                         0                       63                     1  \n",
       "2                      1830                        0                    63  \n",
       "3                      2047                       50                    63  \n",
       "4                      1974                        3                    63  \n",
       "\n",
       "[5 rows x 108 columns]"
      ]
     },
     "execution_count": 2,
     "metadata": {},
     "output_type": "execute_result"
    }
   ],
   "source": [
    "import pandas as pd\n",
    "\n",
    "features = pd.read_csv('features.csv', index_col='match_id')\n",
    "features.head()"
   ]
  },
  {
   "cell_type": "markdown",
   "metadata": {},
   "source": [
    "<h6>Описание признаков в таблице</h6>\n",
    "<ul>\n",
    "    <li>match_id: идентификатор матча в наборе данных</li>\n",
    "    <li>start_time: время начала матча (unixtime)</li>\n",
    "    <li>lobby_type: тип комнаты, в которой собираются игроки (расшифровка в dictionaries/lobbies.csv)</li>\n",
    "    <li>Наборы признаков для каждого игрока (игроки команды Radiant — префикс rN, Dire — dN):\n",
    "    <ul>\n",
    "        <li>r1_hero: герой игрока (расшифровка в dictionaries/heroes.csv)</li>\n",
    "        <li>r1_level: максимальный достигнутый уровень героя (за первые 5 игровых минут)</li>\n",
    "        <li>r1_xp: максимальный полученный опыт</li>\n",
    "        <li>r1_gold: достигнутая ценность героя</li>\n",
    "        <li>r1_lh: число убитых юнитов</li>\n",
    "        <li>r1_kills: число убитых игроков</li>\n",
    "        <li>r1_deaths: число смертей героя</li>\n",
    "        <li>r1_items: число купленных предметов</li>\n",
    "    </ul>\n",
    "    </li>\n",
    "    <li>Признаки события \"первая кровь\" (first blood). Если событие \"первая кровь\" не успело произойти за первые 5 минут, то признаки принимают пропущенное значение\n",
    "    <ul>\n",
    "        <li>first_blood_time: игровое время первой крови</li>\n",
    "        <li>first_blood_team: команда, совершившая первую кровь (0 — Radiant, 1 — Dire)</li>\n",
    "        <li>first_blood_player1: игрок, причастный к событию</li>\n",
    "        <li>first_blood_player2: второй игрок, причастный к событию</li>\n",
    "    </ul>\n",
    "    </li>\n",
    "    <li>Признаки для каждой команды (префиксы radiant_ и dire_)\n",
    "    <ul>\n",
    "        <li>radiant_bottle_time: время первого приобретения командой предмета \"bottle\"</li>\n",
    "        <li>radiant_courier_time: время приобретения предмета \"courier\"</li>\n",
    "        <li>radiant_flying_courier_time: время приобретения предмета \"flying_courier\"</li>\n",
    "        <li>radiant_tpscroll_count: число предметов \"tpscroll\" за первые 5 минут</li>\n",
    "        <li>radiant_boots_count: число предметов \"boots\"</li>\n",
    "        <li>radiant_ward_observer_count: число предметов \"ward_observer\"</li>\n",
    "        <li>radiant_ward_sentry_count: число предметов \"ward_sentry\"</li>\n",
    "        <li>radiant_first_ward_time: время установки командой первого \"наблюдателя\", т.е. предмета, который позволяет видеть часть игрового поля</li>  \n",
    "    </ul>\n",
    "    </li>\n",
    "    <li>Итог матча (данные поля отсутствуют в тестовой выборке, поскольку содержат информацию, выходящую за пределы первых 5 минут матча)\n",
    "    <ul>\n",
    "        <li>duration: длительность</li>\n",
    "        <li>radiant_win: 1, если победила команда Radiant, 0 — иначе</li>\n",
    "        <li>Состояние башен и барраков к концу матча (см. описание полей набора данных)</li>\n",
    "            <ul>\n",
    "                <li>tower_status_radiant</li>\n",
    "                <li>tower_status_radiant</li>\n",
    "                <li>tower_status_dire</li>\n",
    "                <li>barracks_status_radiant</li>\n",
    "                <li>barracks_status_dire</li>\n",
    "            </ul>\n",
    "    </ul>\n",
    "    </li>\n",
    "</ul> \n",
    "* * *"
   ]
  },
  {
   "cell_type": "markdown",
   "metadata": {},
   "source": [
    "<i>Удаление признаков, связанных с итогами матча (они помечены в описании данных как отсутствующие в тестовой выборке)."
   ]
  },
  {
   "cell_type": "code",
   "execution_count": 3,
   "metadata": {
    "collapsed": false
   },
   "outputs": [],
   "source": [
    "X_train = features.drop(['duration', \n",
    "                         'radiant_win',\n",
    "                         'tower_status_radiant', \n",
    "                         'tower_status_dire', \n",
    "                         'barracks_status_radiant', \n",
    "                         'barracks_status_dire'], axis =1)"
   ]
  },
  {
   "cell_type": "markdown",
   "metadata": {},
   "source": [
    "* * *\n",
    "<i>Проверка выборки на наличие пропусков с помощью функции count()."
   ]
  },
  {
   "cell_type": "code",
   "execution_count": 4,
   "metadata": {
    "collapsed": false,
    "scrolled": true
   },
   "outputs": [
    {
     "name": "stdout",
     "output_type": "stream",
     "text": [
      "Features with Na:\n",
      "first_blood_time    77677\n",
      "dtype: int64\n",
      "first_blood_team    77677\n",
      "dtype: int64\n",
      "first_blood_player1    77677\n",
      "dtype: int64\n",
      "first_blood_player2    53243\n",
      "dtype: int64\n",
      "radiant_bottle_time    81539\n",
      "dtype: int64\n",
      "radiant_courier_time    96538\n",
      "dtype: int64\n",
      "radiant_flying_courier_time    69751\n",
      "dtype: int64\n",
      "radiant_first_ward_time    95394\n",
      "dtype: int64\n",
      "dire_bottle_time    81087\n",
      "dtype: int64\n",
      "dire_courier_time    96554\n",
      "dtype: int64\n",
      "dire_flying_courier_time    71132\n",
      "dtype: int64\n",
      "dire_first_ward_time    95404\n",
      "dtype: int64\n"
     ]
    }
   ],
   "source": [
    "import numpy as np\n",
    "\n",
    "row, col= X_train.shape\n",
    "df_index = -1\n",
    "print \"Features with Na:\"\n",
    "for i in X_train.count():\n",
    "    df_index += 1\n",
    "    if (i < row):\n",
    "        print X_train.count()[[df_index]]"
   ]
  },
  {
   "cell_type": "markdown",
   "metadata": {
    "collapsed": false
   },
   "source": [
    "<h6>Для любых двух признаков дайте обоснование, почему их значения могут быть пропущены.</h6>\n",
    "<ul>\n",
    "    <li>first_blood_time - есть пропущены значение, потому что в 79,89% случаев в первые 5 минут игры есть первая кровь</li>\n",
    "    <li>radiant_bottle_time - есть пропущены значение, потому что в 83,86% случаев время первого приобретения командой предмета \"bottle\" в первые 5 минут игры</li>\n",
    "</ul>\n",
    "* * *"
   ]
  },
  {
   "cell_type": "markdown",
   "metadata": {},
   "source": [
    "<i>Замена пропусков на нули с помощью функции fillna()."
   ]
  },
  {
   "cell_type": "code",
   "execution_count": 5,
   "metadata": {
    "collapsed": false
   },
   "outputs": [],
   "source": [
    "X_train.fillna(0, inplace=True)"
   ]
  },
  {
   "cell_type": "markdown",
   "metadata": {},
   "source": [
    "* * *\n",
    "<i>Запишем целевую переменную, она содержит переменную <b>'radiant_win'</b>."
   ]
  },
  {
   "cell_type": "code",
   "execution_count": 9,
   "metadata": {
    "collapsed": true
   },
   "outputs": [],
   "source": [
    "y_train = features['radiant_win']"
   ]
  },
  {
   "cell_type": "markdown",
   "metadata": {
    "collapsed": false
   },
   "source": [
    "<h1>Подход 1: градиентный бустинг</h1>\n",
    "\n",
    "<i> Градиентный бустинг не очень требователен к данным, он восстанавливает нелинейные зависимости, и хорошо работает на многих наборах данных, что и обуславливает его популярность."
   ]
  },
  {
   "cell_type": "markdown",
   "metadata": {},
   "source": [
    "<i>Оценим качество градиентного бустинга с помощью кросс-валидации."
   ]
  },
  {
   "cell_type": "code",
   "execution_count": 16,
   "metadata": {
    "collapsed": false
   },
   "outputs": [
    {
     "name": "stdout",
     "output_type": "stream",
     "text": [
      "Number of trees =  10\n",
      "Time elapsed: 0:00:22.975904\n",
      "Score =  0.664387720635\n",
      "=============\n",
      "Number of trees =  20\n",
      "Time elapsed: 0:00:43.571226\n",
      "Score =  0.682853573534\n",
      "=============\n",
      "Number of trees =  30\n",
      "Time elapsed: 0:01:04.549639\n",
      "Score =  0.689496206059\n",
      "=============\n",
      "Number of trees =  40\n",
      "Time elapsed: 0:01:23.152204\n",
      "Score =  0.694131121473\n",
      "=============\n",
      "Number of trees =  50\n",
      "Time elapsed: 0:01:42.870991\n",
      "Score =  0.697454831695\n",
      "=============\n",
      "Number of trees =  100\n",
      "Time elapsed: 0:03:18.284774\n",
      "Score =  0.706326218163\n",
      "=============\n"
     ]
    }
   ],
   "source": [
    "import time\n",
    "import datetime\n",
    "from sklearn.cross_validation import KFold, cross_val_score\n",
    "from sklearn.ensemble import GradientBoostingClassifier\n",
    "\n",
    "kf = KFold(y_train.size, n_folds=5, shuffle=True, random_state=241)\n",
    "n_trees = [10, 20, 30, 40, 50, 100]\n",
    "score = []\n",
    "for i in n_trees:\n",
    "    print \"Number of trees = \", i\n",
    "    clf_GBC = GradientBoostingClassifier(n_estimators=i, random_state=241)\n",
    "    start_time = datetime.datetime.now()\n",
    "    clf_score = cross_val_score(clf_GBC, X_train, y_train, cv=kf, scoring='roc_auc')\n",
    "    print 'Time elapsed:', datetime.datetime.now() - start_time\n",
    "    print \"Score = \", np.mean(clf_score)\n",
    "    score.append(np.mean(clf_score))\n",
    "    print '============='"
   ]
  },
  {
   "cell_type": "markdown",
   "metadata": {},
   "source": [
    "<i> Для градиентного бустинга с 30 деревьями кросс-валидация проводилась <b>1 мин 4 сек</b>, при етом качество рaвно <b>0.689496206059</b>.\n",
    "\n",
    " Увеличение количества деревьев также увеличивает показатель метрики AUC-ROC, приближая его к 0.7. Для достижения большего качества имеет смысл использовать более 30 деревьев. \n",
    "\n",
    " Для ускорения обучения можно использовать не всю выборку, а некоторое ее подмножество — например, половину объектов. Также можно уменьшить глубину деревьев.\n",
    " * * *\n",
    " * * *"
   ]
  },
  {
   "cell_type": "markdown",
   "metadata": {
    "collapsed": true
   },
   "source": [
    "<h1>Подход 2: логистическая регрессия</h1>\n",
    "\n",
    "<i>Линейные методы работают гораздо быстрее композиций деревьев. Одним из наиболее распространенных методов для классификации является логистическая регрессия."
   ]
  },
  {
   "cell_type": "markdown",
   "metadata": {},
   "source": [
    "<i>Линейные алгоритмы чувствительны к масштабу признаков, поетому выполним преобработку данных."
   ]
  },
  {
   "cell_type": "code",
   "execution_count": 20,
   "metadata": {
    "collapsed": false
   },
   "outputs": [],
   "source": [
    "from sklearn.preprocessing import StandardScaler\n",
    "\n",
    "X_train = StandardScaler().fit_transform(X_train)"
   ]
  },
  {
   "cell_type": "markdown",
   "metadata": {},
   "source": [
    "* * *\n",
    "<i>Оценим качество логистической регрессии с L2-регуляризацией с помощью кросс-валидации по той же схеме, \n",
    "которая использовалась для градиентного бустинга. \n",
    "\n",
    "Подберем лучший параметр регуляризации (C). "
   ]
  },
  {
   "cell_type": "code",
   "execution_count": 29,
   "metadata": {
    "collapsed": false
   },
   "outputs": [
    {
     "name": "stdout",
     "output_type": "stream",
     "text": [
      "C =  10000.0\n",
      "Time elapsed: 0:00:10.597886\n",
      "Score =  0.7163062573\n",
      "=============\n",
      "C =  1000.0\n",
      "Time elapsed: 0:00:10.547827\n",
      "Score =  0.716306263653\n",
      "=============\n",
      "C =  100.0\n",
      "Time elapsed: 0:00:10.412064\n",
      "Score =  0.716306265779\n",
      "=============\n",
      "C =  10.0\n",
      "Time elapsed: 0:00:10.212429\n",
      "Score =  0.71630633996\n",
      "=============\n",
      "C =  1.0\n",
      "Time elapsed: 0:00:10.580293\n",
      "Score =  0.716306583646\n",
      "=============\n",
      "C =  0.1\n",
      "Time elapsed: 0:00:10.320126\n",
      "Score =  0.716310083653\n",
      "=============\n",
      "C =  0.01\n",
      "Time elapsed: 0:00:09.815678\n",
      "Score =  0.716341462187\n",
      "=============\n",
      "C =  0.001\n",
      "Time elapsed: 0:00:07.531608\n",
      "Score =  0.716180246368\n",
      "=============\n",
      "C =  0.0001\n",
      "Time elapsed: 0:00:04.037435\n",
      "Score =  0.711250114392\n",
      "=============\n"
     ]
    }
   ],
   "source": [
    "from sklearn.linear_model import LogisticRegression\n",
    "\n",
    "kf2 = KFold(y_train.size, n_folds=5, shuffle=True, random_state=241)\n",
    "c = [10000., 1000., 100., 10., 1., 0.1, 0.01, 0.001, 0.0001]\n",
    "score = []\n",
    "for i in c:\n",
    "    print 'C = ', i\n",
    "    clf_l2_LR = LogisticRegression(C=i, random_state=241)\n",
    "    start_time = datetime.datetime.now()\n",
    "    clf_score = cross_val_score(clf_l2_LR, X_train, y_train, cv=kf2, scoring='roc_auc')\n",
    "    print 'Time elapsed:', datetime.datetime.now() - start_time\n",
    "    print 'Score = ', np.mean(clf_score)\n",
    "    score.append(np.mean(clf_score))\n",
    "    print '============='"
   ]
  },
  {
   "cell_type": "markdown",
   "metadata": {},
   "source": [
    "<i>Наилучшее значение показателя AUC-ROC достигается при <b>C = 0.01</b> и равно <b>0.716341462187</b>. Это сравнимо с градиентным бустингом c 100 деревьям, при этом логистическая регрессия работает заметно быстрее.\n"
   ]
  },
  {
   "cell_type": "markdown",
   "metadata": {},
   "source": [
    "* * *\n",
    "Среди признаков в выборке есть категориальные, но их использование не является хорошей идеей. Категориальных признаков в этой задаче одиннадцать: lobby_type и r1_hero, r2_hero, ..., r5_hero, d1_hero, d2_hero, ..., d5_hero. \n",
    "\n",
    "Уберем их из выборки, и проведем кросс-валидацию для логистической регрессии на новой выборке с параметром регуляризации = 0.01."
   ]
  },
  {
   "cell_type": "code",
   "execution_count": 27,
   "metadata": {
    "collapsed": false
   },
   "outputs": [],
   "source": [
    "X_train_numerical = features.drop(['duration', 'radiant_win',\n",
    "                                   'tower_status_radiant', \n",
    "                                   'tower_status_dire', \n",
    "                                   'barracks_status_radiant', \n",
    "                                   'barracks_status_dire',\n",
    "                                   'lobby_type', 'r1_hero', \n",
    "                                   'r2_hero', 'r3_hero',\n",
    "                                   'r4_hero', 'r5_hero', \n",
    "                                   'd1_hero', 'd2_hero', \n",
    "                                   'd3_hero', 'd4_hero', \n",
    "                                   'd5_hero'], axis=1)\n",
    "X_train_numerical.fillna(0, inplace=True)\n",
    "X_train_numerical = StandardScaler().fit_transform(X_train_numerical)"
   ]
  },
  {
   "cell_type": "code",
   "execution_count": 31,
   "metadata": {
    "collapsed": false
   },
   "outputs": [
    {
     "name": "stdout",
     "output_type": "stream",
     "text": [
      "C =  10000.0\n",
      "Time elapsed: 0:00:09.895269\n",
      "Score =  0.716370530167\n",
      "=============\n",
      "C =  1000.0\n",
      "Time elapsed: 0:00:09.881192\n",
      "Score =  0.716370530166\n",
      "=============\n",
      "C =  100.0\n",
      "Time elapsed: 0:00:09.779023\n",
      "Score =  0.716370496271\n",
      "=============\n",
      "C =  10.0\n",
      "Time elapsed: 0:00:09.820793\n",
      "Score =  0.716370479305\n",
      "=============\n",
      "C =  1.0\n",
      "Time elapsed: 0:00:09.724984\n",
      "Score =  0.716370752658\n",
      "=============\n",
      "C =  0.1\n",
      "Time elapsed: 0:00:09.589481\n",
      "Score =  0.716373784472\n",
      "=============\n",
      "C =  0.01\n",
      "Time elapsed: 0:00:09.149440\n",
      "Score =  0.716400950653\n",
      "=============\n",
      "C =  0.001\n",
      "Time elapsed: 0:00:07.149222\n",
      "Score =  0.716235591021\n",
      "=============\n",
      "C =  0.0001\n",
      "Time elapsed: 0:00:03.954122\n",
      "Score =  0.711248390616\n",
      "=============\n"
     ]
    }
   ],
   "source": [
    "kf2 = KFold(y_train.size, n_folds=5, shuffle=True, random_state=241)\n",
    "c = [10000., 1000., 100., 10., 1., 0.1, 0.01, 0.001, 0.0001]\n",
    "score = []\n",
    "for i in c:\n",
    "    print 'C = ', i\n",
    "    clf_l2_LR = LogisticRegression(C=i, random_state=241)\n",
    "    start_time = datetime.datetime.now()\n",
    "    clf_score = cross_val_score(clf_l2_LR, X_train_numerical, y_train, cv=kf2, scoring='roc_auc')\n",
    "    print 'Time elapsed:', datetime.datetime.now() - start_time\n",
    "    print 'Score = ', np.mean(clf_score)\n",
    "    score.append(np.mean(clf_score))\n",
    "    print '============='"
   ]
  },
  {
   "cell_type": "markdown",
   "metadata": {},
   "source": [
    "<i>Удаление категориальных признаков не повлияло на качество предсказания. Наилучшее значение показателя AUC-ROC так же достигается при <b>C = 0.01</b> и равно <b>0.716400950653</b>. \n",
    "\n",
    "Получается, что в предыдущей модели эти признаки никак не влияли на результат предсказания, модель смогла распознать этот шум."
   ]
  },
  {
   "cell_type": "markdown",
   "metadata": {
    "collapsed": true
   },
   "source": [
    "* * *\n",
    "\n",
    "<i>На предыдущем шаге мы исключили из выборки признаки rM_hero и dM_hero, которые показывают, какие именно герои играли за каждую команду. Это важные признаки — герои имеют разные характеристики, и некоторые из них выигрывают чаще, чем другие.\n",
    "\n",
    "Выясним из данных, сколько различных идентификаторов героев существует в данной игре."
   ]
  },
  {
   "cell_type": "code",
   "execution_count": 33,
   "metadata": {
    "collapsed": false
   },
   "outputs": [
    {
     "data": {
      "text/plain": [
       "112"
      ]
     },
     "execution_count": 33,
     "metadata": {},
     "output_type": "execute_result"
    }
   ],
   "source": [
    "hero_list = []\n",
    "for i in range(1, 6):\n",
    "    hero = 'r' + str(i) + '_hero'\n",
    "    hero_list.append(features[hero].unique())\n",
    "    hero = 'd' + str(i) + '_hero'\n",
    "    hero_list.append(features[hero].unique())\n",
    "\n",
    "N = max(pd.DataFrame(np.array(hero_list).flatten())[0].unique())\n",
    "N"
   ]
  },
  {
   "cell_type": "markdown",
   "metadata": {},
   "source": [
    "* * *\n",
    "<i>Воспользуем подход <b>\"мешок слов\"</b> для кодирования информации о героях. \n",
    "\n",
    "Пусть всего в игре имеет N различных героев. Сформируем N признаков, при этом i-й будет равен нулю, если i-й герой не \n",
    "участвовал в матче; единице, если i-й герой играл за команду Radiant; \n",
    "минус единице, если i-й герой играл за команду Dire. \n",
    "\n",
    "Добавим полученные признаки к числовым, которые использовали во втором пункте данного этапа."
   ]
  },
  {
   "cell_type": "code",
   "execution_count": 81,
   "metadata": {
    "collapsed": false
   },
   "outputs": [],
   "source": [
    "# N — количество различных героев в выборке\n",
    "X_pick = np.zeros((features.shape[0], N))\n",
    "\n",
    "for i, match_id in enumerate(features.index):\n",
    "    for p in xrange(5):\n",
    "        X_pick[i, features.ix[match_id, 'r%d_hero' % (p+1)]-1] = 1\n",
    "        X_pick[i, features.ix[match_id, 'd%d_hero' % (p+1)]-1] = -1\n",
    "\n",
    "X_train_pick = np.hstack((X_train_numerical, X_pick))"
   ]
  },
  {
   "cell_type": "markdown",
   "metadata": {},
   "source": [
    "<i>Проведем кросс-валидацию для логистической регрессии на новой выборке с подбором лучшего параметра регуляризации. "
   ]
  },
  {
   "cell_type": "code",
   "execution_count": 83,
   "metadata": {
    "collapsed": false
   },
   "outputs": [
    {
     "name": "stdout",
     "output_type": "stream",
     "text": [
      "C =  10000.0\n",
      "Time elapsed: 0:00:18.357183\n",
      "Score =  0.751917174307\n",
      "=============\n",
      "C =  1000.0\n",
      "Time elapsed: 0:00:18.500406\n",
      "Score =  0.751916937051\n",
      "=============\n",
      "C =  100.0\n",
      "Time elapsed: 0:00:18.261905\n",
      "Score =  0.751916981471\n",
      "=============\n",
      "C =  10.0\n",
      "Time elapsed: 0:00:18.288424\n",
      "Score =  0.751917290816\n",
      "=============\n",
      "C =  1.0\n",
      "Time elapsed: 0:00:18.921317\n",
      "Score =  0.751919741775\n",
      "=============\n",
      "C =  0.1\n",
      "Time elapsed: 0:00:16.790977\n",
      "Score =  0.751937449549\n",
      "=============\n",
      "C =  0.01\n",
      "Time elapsed: 0:00:12.525427\n",
      "Score =  0.751735952612\n",
      "=============\n",
      "C =  0.001\n",
      "Time elapsed: 0:00:07.975196\n",
      "Score =  0.746296233371\n",
      "=============\n",
      "C =  0.0001\n",
      "Time elapsed: 0:00:03.908597\n",
      "Score =  0.725022149276\n",
      "=============\n"
     ]
    }
   ],
   "source": [
    "c = [10000., 1000., 100., 10., 1., 0.1, 0.01, 0.001, 0.0001]\n",
    "score = []\n",
    "for i in c:\n",
    "    print 'C = ', i\n",
    "    clf_l2_LR = LogisticRegression(C=i, random_state=241)\n",
    "    start_time = datetime.datetime.now()\n",
    "    clf_score = cross_val_score(clf_l2_LR, X_train_pick, y_train, cv=kf2, scoring='roc_auc')\n",
    "    print 'Time elapsed:', datetime.datetime.now() - start_time\n",
    "    print 'Score = ', np.mean(clf_score)\n",
    "    score.append(np.mean(clf_score))\n",
    "    print '============='"
   ]
  },
  {
   "cell_type": "markdown",
   "metadata": {},
   "source": [
    "<i>После добавления \"мешка слов\" по героям качество заметно <b>улучшилось</b>. Наилучшее значение показателя AUC-ROC достигается при <b>C = 0.1</b> и равно <b>0.751937449549</b>. \n",
    "\n",
    "Это объясняется тем, что вместо отсутствия данных о героях или случайного шума из id мы имеем осмысленную разреженную матрицу для построения предсказания."
   ]
  },
  {
   "cell_type": "markdown",
   "metadata": {},
   "source": [
    "* * *\n",
    "\n",
    "<i>Построим предсказания вероятностей победы команды Radiant для тестовой выборки."
   ]
  },
  {
   "cell_type": "code",
   "execution_count": 85,
   "metadata": {
    "collapsed": true
   },
   "outputs": [],
   "source": [
    "clf = LogisticRegression(C=0.01).fit(X_train_pick, y_train)"
   ]
  },
  {
   "cell_type": "markdown",
   "metadata": {},
   "source": [
    "<i>Выполним преобработку тестовых данных."
   ]
  },
  {
   "cell_type": "code",
   "execution_count": 86,
   "metadata": {
    "collapsed": false
   },
   "outputs": [],
   "source": [
    "X_test = pd.read_csv('features_test.csv', index_col='match_id')\n",
    "\n",
    "X_test_pick = np.zeros((X_test.shape[0], N))\n",
    "for i, match_id in enumerate(X_test.index):\n",
    "    for p in xrange(5):\n",
    "        X_test_pick[i, X_test.ix[match_id, 'r%d_hero' % (p+1)]-1] = 1\n",
    "        X_test_pick[i, X_test.ix[match_id, 'd%d_hero' % (p+1)]-1] = -1\n",
    "\n",
    "X_test = X_test.drop(['lobby_type', 'r1_hero', \n",
    "                      'r2_hero', 'r3_hero',\n",
    "                      'r4_hero', 'r5_hero', \n",
    "                      'd1_hero', 'd2_hero', \n",
    "                      'd3_hero', 'd4_hero', \n",
    "                      'd5_hero'], axis=1)\n",
    "\n",
    "X_test.fillna(0, inplace=True)\n",
    "X_test = StandardScaler().fit_transform(X_test)\n",
    "\n",
    "X_test = np.hstack((X_test, X_test_pick))"
   ]
  },
  {
   "cell_type": "code",
   "execution_count": 87,
   "metadata": {
    "collapsed": false
   },
   "outputs": [],
   "source": [
    "pred = clf.predict_proba(X_test)[:, 1]"
   ]
  },
  {
   "cell_type": "markdown",
   "metadata": {},
   "source": [
    "<i>Максимальное значение прогноза на тестовой выборке:"
   ]
  },
  {
   "cell_type": "code",
   "execution_count": 91,
   "metadata": {
    "collapsed": false
   },
   "outputs": [
    {
     "data": {
      "text/plain": [
       "0.99598316744482462"
      ]
     },
     "execution_count": 91,
     "metadata": {},
     "output_type": "execute_result"
    }
   ],
   "source": [
    "np.max(pred)"
   ]
  },
  {
   "cell_type": "markdown",
   "metadata": {},
   "source": [
    "<i>Минимальное значение прогноза на тестовой выборке:"
   ]
  },
  {
   "cell_type": "code",
   "execution_count": 93,
   "metadata": {
    "collapsed": false
   },
   "outputs": [
    {
     "data": {
      "text/plain": [
       "0.008442628203118023"
      ]
     },
     "execution_count": 93,
     "metadata": {},
     "output_type": "execute_result"
    }
   ],
   "source": [
    "np.min(pred)"
   ]
  }
 ],
 "metadata": {
  "kernelspec": {
   "display_name": "Python 2",
   "language": "python",
   "name": "python2"
  },
  "language_info": {
   "codemirror_mode": {
    "name": "ipython",
    "version": 2
   },
   "file_extension": ".py",
   "mimetype": "text/x-python",
   "name": "python",
   "nbconvert_exporter": "python",
   "pygments_lexer": "ipython2",
   "version": "2.7.12"
  }
 },
 "nbformat": 4,
 "nbformat_minor": 2
}
