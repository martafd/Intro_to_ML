{
 "cells": [
  {
   "cell_type": "code",
   "execution_count": 3,
   "metadata": {
    "collapsed": false
   },
   "outputs": [
    {
     "name": "stdout",
     "output_type": "stream",
     "text": [
      "[2]\n"
     ]
    },
    {
     "data": {
      "image/png": "[encoded data removed]",
      "text/plain": [
       "<matplotlib.figure.Figure at 0x7fc15e6d0610>"
      ]
     },
     "metadata": {},
     "output_type": "display_data"
    },
    {
     "name": "stdout",
     "output_type": "stream",
     "text": [
      "[0 1 2 3]\n"
     ]
    }
   ],
   "source": [
    "import numpy as np\n",
    "X = np.array([[-1, -1], [-2, -1], [1, 1], [2, 1]])\n",
    "y = np.array([1, 1, 2, 2])\n",
    "\n",
    "from sklearn.svm import SVC\n",
    "clf = SVC()\n",
    "clf.fit(X, y) \n",
    "\n",
    "print(clf.predict([[-0.8, 2]]))\n",
    "\n",
    "import matplotlib.pyplot as plt\n",
    "%matplotlib inline\n",
    "plt.scatter(*zip(*X))\n",
    "plt.show()\n",
    "\n",
    "print clf.support_"
   ]
  },
  {
   "cell_type": "code",
   "execution_count": 4,
   "metadata": {
    "collapsed": false
   },
   "outputs": [
    {
     "data": {
      "image/png": "[encoded data removed]",
      "text/plain": [
       "<matplotlib.figure.Figure at 0x7fc160af5c50>"
      ]
     },
     "metadata": {},
     "output_type": "display_data"
    }
   ],
   "source": [
    "import pandas as pd\n",
    "from sklearn.svm import SVC\n",
    "data = pd.read_csv('svm-data.csv', header = None)\n",
    "y = data[0]\n",
    "X = data[[1, 2]]\n",
    "\n",
    "clf = SVC(C=100000, kernel='linear', random_state=241)\n",
    "clf.fit(X, y)\n",
    "ans = \",\".join(str(x) for x in clf.support_ + 1)\n",
    "with open('q1.txt', 'w') as f:\n",
    "    f.write(ans)\n",
    "f.close()\n",
    "\n",
    "# plt.scatter(X[[1]], X[[2]], c = ('red', 'yellow' ), s = 30)\n",
    "w = clf.coef_[0]   # Weights assigned to the features \n",
    "a = - w[0] / w[1]\n",
    "xx = np.linspace(0,1)\n",
    "yy = a * xx - (clf.intercept_[0]) / w[1]   # intercept_ - Constants in decision function.\n",
    "\n",
    "b = clf.support_vectors_[0]\n",
    "yy_down = a * xx + (b[1] - a * b[0])\n",
    "b = clf.support_vectors_[-1]\n",
    "yy_up = a * xx + (b[1] - a * b[0])\n",
    "plt.plot(xx, yy, label=\"non weighted div\")\n",
    "plt.plot(xx, yy, 'k-')\n",
    "plt.plot(xx, yy_down, 'k--')\n",
    "plt.plot(xx, yy_up, 'k--')\n",
    "# plt.legend()\n",
    "# plt.show()\n",
    "\n",
    "plt.scatter(clf.support_vectors_[:, 0], clf.support_vectors_[:, 1],\n",
    "            s=90, facecolors='none')\n",
    "plt.scatter(X[[1]], X[[2]],c = ('red', 'yellow' ), s = 50)\n",
    "\n",
    "plt.show()"
   ]
  },
  {
   "cell_type": "code",
   "execution_count": 5,
   "metadata": {
    "collapsed": false
   },
   "outputs": [],
   "source": [
    "#!/usr/bin/env python -W ignore::DeprecationWarning\n",
    "from sklearn import datasets\n",
    "from sklearn.feature_extraction.text import TfidfVectorizer\n",
    "from sklearn.svm import SVC\n",
    "from sklearn.cross_validation import KFold\n",
    "from sklearn.grid_search import GridSearchCV\n",
    "\n",
    "newsgroups = datasets.fetch_20newsgroups(subset='all', categories=['alt.atheism', 'sci.space'])\n",
    "# print len(newsgroups.target)\n",
    "\n",
    "vectorizer = TfidfVectorizer()\n",
    "X = vectorizer.fit_transform(newsgroups.data).toarray()\n",
    "y = newsgroups.target\n",
    "\n",
    "feature_mapping = vectorizer.get_feature_names()    # transform training data\n",
    "# print feature_mapping"
   ]
  },
  {
   "cell_type": "code",
   "execution_count": 7,
   "metadata": {
    "collapsed": false
   },
   "outputs": [
    {
     "data": {
      "text/plain": [
       "GridSearchCV(cv=sklearn.cross_validation.KFold(n=1786, n_folds=5, shuffle=True, random_state=241),\n",
       "       error_score='raise',\n",
       "       estimator=SVC(C=1.0, cache_size=200, class_weight=None, coef0=0.0,\n",
       "  decision_function_shape=None, degree=3, gamma='auto', kernel='linear',\n",
       "  max_iter=-1, probability=False, random_state=241, shrinking=True,\n",
       "  tol=0.001, verbose=False),\n",
       "       fit_params={}, iid=True, n_jobs=1,\n",
       "       param_grid={'C': array([  1.00000e-05,   1.00000e-04,   1.00000e-03,   1.00000e-02,\n",
       "         1.00000e-01,   1.00000e+00,   1.00000e+01,   1.00000e+02,\n",
       "         1.00000e+03,   1.00000e+04,   1.00000e+05])},\n",
       "       pre_dispatch='2*n_jobs', refit=True, scoring='accuracy', verbose=0)"
      ]
     },
     "execution_count": 7,
     "metadata": {},
     "output_type": "execute_result"
    }
   ],
   "source": [
    "grid = {'C': np.power(10.0, np.arange(-5, 6))}    # grid for parameters \n",
    "cv = KFold(y.size, n_folds=5, shuffle=True, random_state=241)    # cross-validation\n",
    "clf = SVC(kernel='linear', random_state=241)    # support vector classifier\n",
    "\n",
    "gs = GridSearchCV(clf, grid, scoring='accuracy', cv=cv)\n",
    "gs.fit(X, y)"
   ]
  },
  {
   "cell_type": "code",
   "execution_count": 39,
   "metadata": {
    "collapsed": false
   },
   "outputs": [
    {
     "name": "stdout",
     "output_type": "stream",
     "text": [
      "mean: 0.55263, std: 0.02812, params: {'C': 1.0000000000000001e-05}\n",
      "mean: 0.55263, std: 0.02812, params: {'C': 0.0001}\n",
      "mean: 0.55263, std: 0.02812, params: {'C': 0.001}\n",
      "mean: 0.55263, std: 0.02812, params: {'C': 0.01}\n",
      "mean: 0.95017, std: 0.00822, params: {'C': 0.10000000000000001}\n",
      "mean: 0.99328, std: 0.00455, params: {'C': 1.0}\n",
      "mean: 0.99328, std: 0.00455, params: {'C': 10.0}\n",
      "mean: 0.99328, std: 0.00455, params: {'C': 100.0}\n",
      "mean: 0.99328, std: 0.00455, params: {'C': 1000.0}\n",
      "mean: 0.99328, std: 0.00455, params: {'C': 10000.0}\n",
      "mean: 0.99328, std: 0.00455, params: {'C': 100000.0}\n"
     ]
    }
   ],
   "source": [
    "for a in gs.grid_scores_:\n",
    "#     print 'a.mean_validation_score', a.mean_validation_score    # оценка качества по кросс-валидации\n",
    "#     print 'a.parameters', a.parameters    # значения параметров\n",
    "    print a\n",
    "\n",
    "opt_clf = SVC(gs.best_estimator_.C, kernel='linear', random_state=241)\n",
    "opt_clf.fit(X, y)\n",
    "opt_weight = opt_clf.coef_"
   ]
  },
  {
   "cell_type": "code",
   "execution_count": 78,
   "metadata": {
    "collapsed": false
   },
   "outputs": [
    {
     "name": "stdout",
     "output_type": "stream",
     "text": [
      "atheism atheists bible god keith moon religion sci sky space\n"
     ]
    }
   ],
   "source": [
    "abs_opt_weight = np.abs(opt_weight[0])\n",
    "sorted_abs_opt_weight = np.argsort(abs_opt_weight)[-10:]    # sort weigths, return indexes of that weights!\n",
    "sorted_abs_opt_weight = sorted_abs_opt_weight[::-1]\n",
    "\n",
    "feature_mapping = vectorizer.get_feature_names()    # to know which word corresponds to the i-th feature\n",
    "ans = np.sort(np.array(feature_mapping)[sorted_abs_opt_weight])\n",
    "print ' '.join(ans)\n",
    "\n",
    "with open('q2.txt', 'w') as f:\n",
    "    f.write(' '.join(ans))"
   ]
  }
 ],
 "metadata": {
  "kernelspec": {
   "display_name": "Python 2",
   "language": "python",
   "name": "python2"
  },
  "language_info": {
   "codemirror_mode": {
    "name": "ipython",
    "version": 2
   },
   "file_extension": ".py",
   "mimetype": "text/x-python",
   "name": "python",
   "nbconvert_exporter": "python",
   "pygments_lexer": "ipython2",
   "version": "2.7.6"
  }
 },
 "nbformat": 4,
 "nbformat_minor": 0
}
