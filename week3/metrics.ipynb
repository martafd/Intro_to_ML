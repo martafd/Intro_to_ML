{
 "cells": [
  {
   "cell_type": "code",
   "execution_count": 1,
   "metadata": {
    "collapsed": false
   },
   "outputs": [
    {
     "data": {
      "text/html": [
       "<div>\n",
       "<table border=\"1\" class=\"dataframe\">\n",
       "  <thead>\n",
       "    <tr style=\"text-align: right;\">\n",
       "      <th></th>\n",
       "      <th>true</th>\n",
       "      <th>pred</th>\n",
       "    </tr>\n",
       "  </thead>\n",
       "  <tbody>\n",
       "    <tr>\n",
       "      <th>0</th>\n",
       "      <td>1</td>\n",
       "      <td>0</td>\n",
       "    </tr>\n",
       "    <tr>\n",
       "      <th>1</th>\n",
       "      <td>1</td>\n",
       "      <td>1</td>\n",
       "    </tr>\n",
       "    <tr>\n",
       "      <th>2</th>\n",
       "      <td>1</td>\n",
       "      <td>1</td>\n",
       "    </tr>\n",
       "    <tr>\n",
       "      <th>3</th>\n",
       "      <td>0</td>\n",
       "      <td>0</td>\n",
       "    </tr>\n",
       "    <tr>\n",
       "      <th>4</th>\n",
       "      <td>1</td>\n",
       "      <td>1</td>\n",
       "    </tr>\n",
       "  </tbody>\n",
       "</table>\n",
       "</div>"
      ],
      "text/plain": [
       "   true  pred\n",
       "0     1     0\n",
       "1     1     1\n",
       "2     1     1\n",
       "3     0     0\n",
       "4     1     1"
      ]
     },
     "execution_count": 1,
     "metadata": {},
     "output_type": "execute_result"
    }
   ],
   "source": [
    "import pandas as pd\n",
    "\n",
    "df = pd.read_csv('classification.csv')\n",
    "df.head()"
   ]
  },
  {
   "cell_type": "code",
   "execution_count": 16,
   "metadata": {
    "collapsed": false
   },
   "outputs": [
    {
     "data": {
      "text/plain": [
       "'43 34 59 64'"
      ]
     },
     "execution_count": 16,
     "metadata": {},
     "output_type": "execute_result"
    }
   ],
   "source": [
    "from sklearn.metrics import confusion_matrix\n",
    "\n",
    "conf_marix = confusion_matrix(df.true, df.pred)\n",
    "# true negatives is C_{0,0}\n",
    "# false negatives is C_{1,0}\n",
    "# true positives is C_{1,1}\n",
    "# false positives is C_{0,1}\n",
    "tp = conf_marix[1][1]\n",
    "fp = conf_marix[0][1]\n",
    "fn = conf_marix[1][0]\n",
    "tn = conf_marix[0][0]\n",
    "\n",
    "res = str(tp) + ' ' + str(fp) + ' ' + str(fn) + ' ' + str(tn)\n",
    "\n",
    "conf_marix\n",
    "res"
   ]
  },
  {
   "cell_type": "code",
   "execution_count": 15,
   "metadata": {
    "collapsed": false
   },
   "outputs": [],
   "source": [
    "with open('q1.txt', 'w') as f:\n",
    "    f.write(res)\n",
    "f.close()"
   ]
  },
  {
   "cell_type": "code",
   "execution_count": 76,
   "metadata": {
    "collapsed": false
   },
   "outputs": [
    {
     "name": "stdout",
     "output_type": "stream",
     "text": [
      "0.535\n"
     ]
    },
    {
     "data": {
      "text/plain": [
       "'accuracy = 0.535, precision = 0.558441558442, recall = 0.421568627451, f1 = 0.480446927374'"
      ]
     },
     "execution_count": 76,
     "metadata": {},
     "output_type": "execute_result"
    }
   ],
   "source": [
    "from sklearn.metrics import accuracy_score, precision_score, recall_score, f1_score\n",
    "\n",
    "# Accuracy (доля верно угаданных)-------------> (tp+tn)/(tp+tn+fp+fn)\n",
    "accuracy = accuracy_score(df.true.as_matrix(), df.pred.as_matrix())\n",
    "\n",
    "#Precision (точность) -------------> tp/(tp+fp)\n",
    "precision = precision_score(df.true.as_matrix(), df.pred.as_matrix())\n",
    "\n",
    "#Recall (полнота) ------------->  tp/(tp+fn)\n",
    "recall = recall_score(df.true.as_matrix(), df.pred.as_matrix())\n",
    "\n",
    "#F-мера  -------------> 2*(precision*recall)/(precision+recall)\n",
    "f1 = f1_score(df.true.as_matrix(), df.pred.as_matrix())\n",
    "\n",
    "'accuracy = {0}, precision = {1}, recall = {2}, f1 = {3}'.format(accuracy, precision, recall, f1)"
   ]
  },
  {
   "cell_type": "code",
   "execution_count": 81,
   "metadata": {
    "collapsed": true
   },
   "outputs": [],
   "source": [
    "res = str(accuracy) + ' ' + str(precision) + ' ' + str(recall) + ' ' + str(f1)\n",
    "with open('q2.txt', 'w') as f:\n",
    "    f.write(res)\n",
    "f.close()"
   ]
  },
  {
   "cell_type": "code",
   "execution_count": 85,
   "metadata": {
    "collapsed": false
   },
   "outputs": [
    {
     "data": {
      "text/html": [
       "<div>\n",
       "<table border=\"1\" class=\"dataframe\">\n",
       "  <thead>\n",
       "    <tr style=\"text-align: right;\">\n",
       "      <th></th>\n",
       "      <th>true</th>\n",
       "      <th>score_logreg</th>\n",
       "      <th>score_svm</th>\n",
       "      <th>score_knn</th>\n",
       "      <th>score_tree</th>\n",
       "    </tr>\n",
       "  </thead>\n",
       "  <tbody>\n",
       "    <tr>\n",
       "      <th>0</th>\n",
       "      <td>0</td>\n",
       "      <td>0.683832</td>\n",
       "      <td>0.145976</td>\n",
       "      <td>0.787063</td>\n",
       "      <td>0.500000</td>\n",
       "    </tr>\n",
       "    <tr>\n",
       "      <th>1</th>\n",
       "      <td>1</td>\n",
       "      <td>0.801966</td>\n",
       "      <td>0.239511</td>\n",
       "      <td>1.000000</td>\n",
       "      <td>0.833333</td>\n",
       "    </tr>\n",
       "    <tr>\n",
       "      <th>2</th>\n",
       "      <td>0</td>\n",
       "      <td>0.382315</td>\n",
       "      <td>-0.245701</td>\n",
       "      <td>0.000000</td>\n",
       "      <td>0.000000</td>\n",
       "    </tr>\n",
       "    <tr>\n",
       "      <th>3</th>\n",
       "      <td>1</td>\n",
       "      <td>0.506797</td>\n",
       "      <td>-0.137058</td>\n",
       "      <td>0.000000</td>\n",
       "      <td>0.105263</td>\n",
       "    </tr>\n",
       "    <tr>\n",
       "      <th>4</th>\n",
       "      <td>1</td>\n",
       "      <td>0.488781</td>\n",
       "      <td>-0.154148</td>\n",
       "      <td>0.000000</td>\n",
       "      <td>0.105263</td>\n",
       "    </tr>\n",
       "  </tbody>\n",
       "</table>\n",
       "</div>"
      ],
      "text/plain": [
       "   true  score_logreg  score_svm  score_knn  score_tree\n",
       "0     0      0.683832   0.145976   0.787063    0.500000\n",
       "1     1      0.801966   0.239511   1.000000    0.833333\n",
       "2     0      0.382315  -0.245701   0.000000    0.000000\n",
       "3     1      0.506797  -0.137058   0.000000    0.105263\n",
       "4     1      0.488781  -0.154148   0.000000    0.105263"
      ]
     },
     "execution_count": 85,
     "metadata": {},
     "output_type": "execute_result"
    }
   ],
   "source": [
    "df_score = pd.read_csv('scores.csv')\n",
    "df_score.head()"
   ]
  },
  {
   "cell_type": "code",
   "execution_count": 124,
   "metadata": {
    "collapsed": false
   },
   "outputs": [
    {
     "data": {
      "text/plain": [
       "'roc_logreg = 0.71918767507, roc_svm = 0.708683473389, roc_knn = 0.635154061625, roc_tree = 0.691926770708'"
      ]
     },
     "execution_count": 124,
     "metadata": {},
     "output_type": "execute_result"
    }
   ],
   "source": [
    "from sklearn.metrics import roc_auc_score, roc_curve\n",
    "\n",
    "# roc_auc_score  -  Compute Area Under the Curve (AUC) from prediction scores\n",
    "\n",
    "roc_logreg = roc_auc_score(df_score.true.as_matrix(), df_score.score_logreg.as_matrix())\n",
    "roc_svm = roc_auc_score(df_score.true.as_matrix(), df_score.score_svm.as_matrix()) \n",
    "roc_knn = roc_auc_score(df_score.true.as_matrix(), df_score.score_knn.as_matrix())\n",
    "roc_tree = roc_auc_score(df_score.true.as_matrix(), df_score.score_tree.as_matrix()) \n",
    "\n",
    "'roc_logreg = {0}, roc_svm = {1}, roc_knn = {2}, roc_tree = {3}'.format(roc_logreg, roc_svm, roc_knn, roc_tree)"
   ]
  },
  {
   "cell_type": "code",
   "execution_count": 125,
   "metadata": {
    "collapsed": true
   },
   "outputs": [],
   "source": [
    "res = 'score_logreg'\n",
    "with open('q3.txt', 'w') as f:\n",
    "    f.write(res)\n",
    "f.close()"
   ]
  },
  {
   "cell_type": "code",
   "execution_count": 122,
   "metadata": {
    "collapsed": false
   },
   "outputs": [],
   "source": [
    "fpr_logreg, tpr_logreg, _ = roc_curve(df_score.true.as_matrix(), df_score.score_logreg.as_matrix(), pos_label=1)\n",
    "fpr_svm, tpr_svm, _ = roc_curve(df_score.true.as_matrix(), df_score.score_svm.as_matrix()) \n",
    "fpr_knn, tpr_knn, _  = roc_curve(df_score.true.as_matrix(), df_score.score_knn.as_matrix())\n",
    "fpr_tree, tpr_tree, _ = roc_curve(df_score.true.as_matrix(), df_score.score_tree.as_matrix()) "
   ]
  },
  {
   "cell_type": "code",
   "execution_count": 132,
   "metadata": {
    "collapsed": false
   },
   "outputs": [
    {
     "data": {
      "image/png": "[encoded data removed]",
      "text/plain": [
       "<matplotlib.figure.Figure at 0x7fe45a8e49d0>"
      ]
     },
     "metadata": {},
     "output_type": "display_data"
    }
   ],
   "source": [
    "import matplotlib.pyplot as plt\n",
    "%matplotlib inline\n",
    "\n",
    "plt.figure\n",
    "plt.plot(fpr_logreg, tpr_logreg, color='green', label='log_regreg')\n",
    "plt.plot(fpr_svm, tpr_svm, color='blue', label='svm')\n",
    "plt.plot(fpr_knn, tpr_knn, color='red', label='knn')\n",
    "plt.plot(fpr_tree, tpr_tree, color='yellow', label='tree')\n",
    "plt.legend(loc='lower right')\n",
    "plt.show()\n"
   ]
  },
  {
   "cell_type": "code",
   "execution_count": 181,
   "metadata": {
    "collapsed": false
   },
   "outputs": [
    {
     "name": "stdout",
     "output_type": "stream",
     "text": [
      "logreg_max_pr =  0.63025210084\n",
      "svm_max_pr =  0.622807017544\n",
      "knn_max_pr =  0.606557377049\n",
      "tree_max_pr =  0.651785714286\n"
     ]
    }
   ],
   "source": [
    "#  which classifier has max precision, when recall >= 70%\n",
    "\n",
    "from sklearn.metrics import precision_recall_curve\n",
    "\n",
    "def max_precision(recall, precision):                                                                \n",
    "    res = []\n",
    "    for i,recall in enumerate(recall):\n",
    "        if recall >= 0.7:\n",
    "            res.append(precision[i])\n",
    "    return max(res)\n",
    "      \n",
    "\n",
    "logreg_precision, logreg_recall, logreg_thresthold = precision_recall_curve(df_score.true.as_matrix(), \n",
    "                                                                            df_score.score_logreg.as_matrix(),\n",
    "                                                                            pos_label=1)\n",
    "logreg_max_pr = max_precision(logreg_recall, logreg_precision)\n",
    "print 'logreg_max_pr = ', logreg_max_pr\n",
    "\n",
    "\n",
    "svm_precision, svm_recall, svm_thresthold = precision_recall_curve(df_score.true.as_matrix(), \n",
    "                                                                            df_score.score_svm.as_matrix(), \n",
    "                                                                            pos_label=1)\n",
    "svm_max_pr = max_precision(svm_recall, svm_precision)\n",
    "print 'svm_max_pr = ', svm_max_pr\n",
    "\n",
    "\n",
    "knn_precision, knn_recall, knn_thresthold = precision_recall_curve(df_score.true.as_matrix(), \n",
    "                                                                            df_score.score_knn.as_matrix(), \n",
    "                                                                            pos_label=1)\n",
    "knn_max_pr = max_precision(knn_recall, knn_precision)\n",
    "print 'knn_max_pr = ', knn_max_pr\n",
    "\n",
    "\n",
    "tree_precision, tree_recall, tree_thresthold = precision_recall_curve(df_score.true.as_matrix(), \n",
    "                                                                            df_score.score_tree.as_matrix(), \n",
    "                                                                            pos_label=1)\n",
    "\n",
    "tree_max_pr = max_precision(tree_recall, tree_precision)\n",
    "print 'tree_max_pr = ', tree_max_pr"
   ]
  },
  {
   "cell_type": "code",
   "execution_count": 184,
   "metadata": {
    "collapsed": false
   },
   "outputs": [],
   "source": [
    "res = 'score_tree'\n",
    "with open('q4.txt', 'w') as f:\n",
    "    f.write(res)\n",
    "f.close()"
   ]
  }
 ],
 "metadata": {
  "kernelspec": {
   "display_name": "Python 2",
   "language": "python",
   "name": "python2"
  },
  "language_info": {
   "codemirror_mode": {
    "name": "ipython",
    "version": 2
   },
   "file_extension": ".py",
   "mimetype": "text/x-python",
   "name": "python",
   "nbconvert_exporter": "python",
   "pygments_lexer": "ipython2",
   "version": "2.7.12"
  }
 },
 "nbformat": 4,
 "nbformat_minor": 1
}
