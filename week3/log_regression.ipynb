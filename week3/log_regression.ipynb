{
 "cells": [
  {
   "cell_type": "code",
   "execution_count": 1,
   "metadata": {
    "collapsed": false
   },
   "outputs": [
    {
     "data": {
      "text/plain": [
       "1.0"
      ]
     },
     "execution_count": 1,
     "metadata": {},
     "output_type": "execute_result"
    }
   ],
   "source": [
    "import numpy as np\n",
    "from sklearn.metrics import roc_auc_score\n",
    "y_true = np.array([0, 0, 1, 1])\n",
    "y_scores = np.array([0.1, 0.1, 0.5, 0.5])\n",
    "roc_auc_score(y_true, y_scores)"
   ]
  },
  {
   "cell_type": "code",
   "execution_count": 86,
   "metadata": {
    "collapsed": false
   },
   "outputs": [],
   "source": [
    "import pandas as pd\n",
    "\n",
    "data = pd.read_csv('data-logistic.csv', header=None)\n",
    "X = data[[1,2]].as_matrix()\n",
    "y = data[0].as_matrix()"
   ]
  },
  {
   "cell_type": "code",
   "execution_count": 103,
   "metadata": {
    "collapsed": false
   },
   "outputs": [
    {
     "name": "stdout",
     "output_type": "stream",
     "text": [
      "[ 0.28810819  0.0917091 ]\n"
     ]
    }
   ],
   "source": [
    "l, m = X.shape    # rows, col\n",
    "theta = np.zeros(2)\n",
    "k = 0.1\n",
    "C = 1\n",
    "\n",
    "def sigmoid(X, y, theta):\n",
    "    return (1 / (1 + np.exp(-y * np.dot(theta, X))))\n",
    "\n",
    "# without regularization\n",
    "for j in xrange(0, 10000):\n",
    "    s = np.zeros(2)\n",
    "    for i in xrange(0, l):\n",
    "        s += (y[i] * X[i]) * (1 - sigmoid(X[i], y[i], theta))\n",
    "    theta += s * (k / l)\n",
    "print theta"
   ]
  },
  {
   "cell_type": "code",
   "execution_count": 80,
   "metadata": {
    "collapsed": false
   },
   "outputs": [
    {
     "name": "stdout",
     "output_type": "stream",
     "text": [
      "[ 0.2412209   0.10513949]\n"
     ]
    }
   ],
   "source": [
    "theta_reg = np.zeros(2)\n",
    "\n",
    "# using regularization\n",
    "for j in xrange(0, 10000):\n",
    "    s = np.zeros(2)\n",
    "    for i in xrange(0, l):\n",
    "        s += (y[i] * X[i]) * (1 - sigmoid(X[i], y[i], theta_reg)) - k * C * theta_reg\n",
    "    theta_reg += s * (k / l )\n",
    "print theta_reg"
   ]
  },
  {
   "cell_type": "code",
   "execution_count": 94,
   "metadata": {
    "collapsed": false
   },
   "outputs": [],
   "source": [
    "from sklearn.metrics import roc_auc_score\n",
    "\n",
    "def pred(X, y, theta):\n",
    "    return (1 / (1 + np.exp(-1 * np.dot(theta, X))))\n",
    "\n",
    "y_score = []\n",
    "for i in xrange(0, l):\n",
    "    y_score.append(pred(X[i], y[i], theta))\n",
    "    \n",
    "y_score_reg = []\n",
    "for i in xrange(0, l):\n",
    "    y_score_reg.append(pred(X[i], y[i], theta_reg))"
   ]
  },
  {
   "cell_type": "code",
   "execution_count": 95,
   "metadata": {
    "collapsed": false
   },
   "outputs": [
    {
     "name": "stdout",
     "output_type": "stream",
     "text": [
      "0.927\n",
      "0.931\n"
     ]
    }
   ],
   "source": [
    "\n",
    "res = round(roc_auc_score(y, y_score),3)\n",
    "res_reg = round(roc_auc_score(y, y_score_reg), 3)\n",
    "print res\n",
    "print res_reg"
   ]
  },
  {
   "cell_type": "code",
   "execution_count": 96,
   "metadata": {
    "collapsed": false
   },
   "outputs": [],
   "source": [
    "with open('q3.txt', 'w') as f:\n",
    "    f.write(str(res) + ' ' + str(res_reg))\n",
    "f.close()"
   ]
  }
 ],
 "metadata": {
  "kernelspec": {
   "display_name": "Python 2",
   "language": "python",
   "name": "python2"
  },
  "language_info": {
   "codemirror_mode": {
    "name": "ipython",
    "version": 2
   },
   "file_extension": ".py",
   "mimetype": "text/x-python",
   "name": "python",
   "nbconvert_exporter": "python",
   "pygments_lexer": "ipython2",
   "version": "2.7.12"
  }
 },
 "nbformat": 4,
 "nbformat_minor": 0
}
