{
 "cells": [
  {
   "cell_type": "code",
   "execution_count": 52,
   "metadata": {
    "collapsed": true
   },
   "outputs": [],
   "source": [
    "import pandas as pd\n",
    "import numpy as np\n",
    "from sklearn.cross_validation import KFold, cross_val_score\n",
    "from sklearn.neighbors import KNeighborsClassifier\n",
    "from sklearn.preprocessing import scale\n",
    "\n",
    "data = pd.read_csv('wine.data', header=None)\n",
    "data = data.as_matrix()\n",
    "y = data[:, 0]\n",
    "X = data[:, 1:]"
   ]
  },
  {
   "cell_type": "code",
   "execution_count": 73,
   "metadata": {
    "collapsed": false
   },
   "outputs": [],
   "source": [
    "from sklearn.cross_validation import KFold, cross_val_score\n",
    "from sklearn.neighbors import KNeighborsClassifier\n",
    "\n",
    "kf = KFold(len(X), n_folds=5, shuffle=True, random_state=42)\n",
    "\n",
    "accuracy = []\n",
    "for i in xrange(1,51):\n",
    "    neighbor = KNeighborsClassifier(n_neighbors=i)\n",
    "    accuracy.append(np.mean(cross_val_score(estimator=neighbor, X=X, y=y, cv=kf)))\n",
    "# for train_index, test_index in kf:\n",
    "#     X_train, X_test = X[train_index], X[test_index]\n",
    "#     y_train, y_test = y[train_index], y[test_index]\n",
    "#     neighbor.fit(X_train, y_train)\n",
    "#     res = neighbor.predict(X_test)\n",
    "#     print 1 - (float(np.count_nonzero(y_test - res)) / len(y_test))\n",
    "\n",
    "accuracy.index(max(accuracy))\n",
    "with open('q2.txt', 'w') as f:\n",
    "    f.write(str(max(accuracy)))\n",
    "f.close()\n",
    "with open('q1.txt', 'w') as f:\n",
    "    f.write(str(accuracy.index(max(accuracy))+1))\n",
    "f.close()"
   ]
  },
  {
   "cell_type": "code",
   "execution_count": 71,
   "metadata": {
    "collapsed": false
   },
   "outputs": [],
   "source": [
    "from sklearn.preprocessing import scale\n",
    "\n",
    "X_scaled = scale(X)\n",
    "accuracy = []\n",
    "for i in xrange(1,51):\n",
    "    neighbor = KNeighborsClassifier(n_neighbors=i)\n",
    "    accuracy.append(np.mean(cross_val_score(estimator=neighbor, X=X_scaled, y=y, cv=kf)))\n",
    "\n",
    "with open('q4.txt', 'w') as f:\n",
    "    f.write(str(max(accuracy)))\n",
    "f.close()\n",
    "with open('q3.txt', 'w') as f:\n",
    "    f.write(str(np.argmax(accuracy)+1))\n",
    "f.close()"
   ]
  }
 ],
 "metadata": {
  "kernelspec": {
   "display_name": "Python 2",
   "language": "python",
   "name": "python2"
  },
  "language_info": {
   "codemirror_mode": {
    "name": "ipython",
    "version": 2
   },
   "file_extension": ".py",
   "mimetype": "text/x-python",
   "name": "python",
   "nbconvert_exporter": "python",
   "pygments_lexer": "ipython2",
   "version": "2.7.6"
  }
 },
 "nbformat": 4,
 "nbformat_minor": 0
}
