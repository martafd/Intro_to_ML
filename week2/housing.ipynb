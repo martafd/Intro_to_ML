{
 "cells": [
  {
   "cell_type": "code",
   "execution_count": 65,
   "metadata": {
    "collapsed": false
   },
   "outputs": [],
   "source": [
    "from sklearn import datasets, preprocessing\n",
    "\n",
    "data = datasets.load_boston()\n",
    "X = data.data\n",
    "y = data.target\n",
    "X_scaled = preprocessing.scale(X)"
   ]
  },
  {
   "cell_type": "code",
   "execution_count": 86,
   "metadata": {
    "collapsed": false
   },
   "outputs": [],
   "source": [
    "from sklearn.neighbors import KNeighborsRegressor\n",
    "from sklearn.cross_validation import cross_val_score, KFold\n",
    "import numpy as np\n",
    "\n",
    "res = []\n",
    "p_value = np.linspace(1, 10, 200)\n",
    "for i in p_value:\n",
    "    kf = KFold(len(X_scaled), n_folds=5, shuffle=True, random_state=42)\n",
    "    neighbor = KNeighborsRegressor(n_neighbors=5, weights='distance', p=i)\n",
    "    res.append(cross_val_score(estimator=neighbor, X=X_scaled, y=y, cv=kf, scoring='mean_squared_error').mean())\n",
    "\n",
    "with open('q5.txt', 'w') as f:\n",
    "    f.write(str(p_value[np.argmax(res)]))\n",
    "f.close()"
   ]
  }
 ],
 "metadata": {
  "kernelspec": {
   "display_name": "Python 2",
   "language": "python",
   "name": "python2"
  },
  "language_info": {
   "codemirror_mode": {
    "name": "ipython",
    "version": 2
   },
   "file_extension": ".py",
   "mimetype": "text/x-python",
   "name": "python",
   "nbconvert_exporter": "python",
   "pygments_lexer": "ipython2",
   "version": "2.7.6"
  }
 },
 "nbformat": 4,
 "nbformat_minor": 0
}
