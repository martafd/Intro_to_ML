{
 "cells": [
  {
   "cell_type": "code",
   "execution_count": 1,
   "metadata": {
    "collapsed": false
   },
   "outputs": [
    {
     "name": "stdout",
     "output_type": "stream",
     "text": [
      "[0 0 0]\n",
      "[[ 100.    2.]\n",
      " [  50.    4.]\n",
      " [  70.    6.]]\n",
      "[[ 1.29777137 -1.22474487]\n",
      " [-1.13554995  0.        ]\n",
      " [-0.16222142  1.22474487]]\n"
     ]
    }
   ],
   "source": [
    "import numpy as np\n",
    "from sklearn.linear_model import Perceptron\n",
    "from sklearn.preprocessing import StandardScaler\n",
    "\n",
    "X = np.array([[1, 2], [3, 4], [5, 6]])\n",
    "y = np.array([0, 1, 0])\n",
    "clf = Perceptron()\n",
    "clf.fit(X, y)\n",
    "predictions = clf.predict(X)\n",
    "\n",
    "\n",
    "scaler = StandardScaler()\n",
    "X_train = np.array([[100.0, 2.0], [50.0, 4.0], [70.0, 6.0]])\n",
    "X_test = np.array([[90.0, 1], [40.0, 3], [60.0, 4]])\n",
    "X_train_scaled = scaler.fit_transform(X_train)\n",
    "X_test_scaled = scaler.transform(X_test)"
   ]
  },
  {
   "cell_type": "code",
   "execution_count": 81,
   "metadata": {
    "collapsed": false
   },
   "outputs": [],
   "source": [
    "import pandas as pd\n",
    "from sklearn.metrics import accuracy_score\n",
    "\n",
    "train = pd.read_csv('perceptron-train.csv', header = None)\n",
    "X_train = train.iloc[:, 1:3]\n",
    "y_train = train[0]\n",
    "test = pd.read_csv('perceptron-test.csv', header = None)\n",
    "X_test = test[[1, 2]]\n",
    "y_test = test[0]\n",
    "\n",
    "clf = Perceptron(random_state=241)\n",
    "clf.fit(X_train, y_train)\n",
    "y_pred = clf.predict(X_test)\n",
    "acc = accuracy_score(y_test, y_pred)\n",
    "\n",
    "scaled = StandardScaler()\n",
    "X_train_sc = scaler.fit_transform(X_train) # use fit_transform to train set and transform to testset\n",
    "X_test_sc = scaler.transform(X_test)\n",
    "clf = Perceptron(random_state=241)\n",
    "clf.fit(X_train_sc, y_train)\n",
    "y_pred_sc = clf.predict(X_test_sc)\n",
    "acc_sc = accuracy_score(y_test, y_pred_sc)\n",
    "ans = acc_sc - acc\n",
    "str(acc_sc - acc)\n",
    "with open('q5.txt', 'w') as f:\n",
    "    f.write(str(ans))\n",
    "f.close()"
   ]
  }
 ],
 "metadata": {
  "kernelspec": {
   "display_name": "Python 2",
   "language": "python",
   "name": "python2"
  },
  "language_info": {
   "codemirror_mode": {
    "name": "ipython",
    "version": 2
   },
   "file_extension": ".py",
   "mimetype": "text/x-python",
   "name": "python",
   "nbconvert_exporter": "python",
   "pygments_lexer": "ipython2",
   "version": "2.7.6"
  }
 },
 "nbformat": 4,
 "nbformat_minor": 0
}
